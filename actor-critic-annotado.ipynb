{
 "cells": [
  {
   "cell_type": "code",
   "metadata": {
    "ExecuteTime": {
     "end_time": "2025-09-13T01:10:23.240804Z",
     "start_time": "2025-09-13T01:10:20.785591Z"
    }
   },
   "source": [
    "import math\n",
    "import random\n",
    "\n",
    "import gymnasium as gym\n",
    "import numpy as np\n",
    "\n",
    "import torch\n",
    "import torch.nn as nn\n",
    "import torch.optim as optim\n",
    "import torch.nn.functional as F\n",
    "from torch.distributions import Categorical"
   ],
   "outputs": [],
   "execution_count": 1
  },
  {
   "cell_type": "code",
   "metadata": {
    "ExecuteTime": {
     "end_time": "2025-09-13T01:10:23.256658Z",
     "start_time": "2025-09-13T01:10:23.251614Z"
    }
   },
   "source": [
    "env_name = \"CartPole-v1\"\n",
    "env = gym.make(env_name)"
   ],
   "outputs": [],
   "execution_count": 2
  },
  {
   "cell_type": "code",
   "metadata": {
    "ExecuteTime": {
     "end_time": "2025-09-13T01:10:23.266306Z",
     "start_time": "2025-09-13T01:10:23.262752Z"
    }
   },
   "source": [
    "# Clase ActorCritic: separa Actor (política) y Critic (valor).\n",
    "class ActorCritic(nn.Module): \n",
    "    def __init__(self, n_inputs, n_outputs, hidden_size, std = 0.0): \n",
    "        super(ActorCritic, self).__init__() \n",
    "\n",
    "        self.critic = nn.Sequential(\n",
    "            nn.Linear(n_inputs,hidden_size), nn.ReLU()\n",
    "            , nn.Linear(hidden_size,hidden_size), nn.ReLU() \n",
    "            , nn.Linear(hidden_size, 1)\n",
    "        )\n",
    "\n",
    "        self.actor = nn.Sequential(\n",
    "            nn.Linear(n_inputs,hidden_size), nn.ReLU() \n",
    "            , nn.Linear(hidden_size,hidden_size), nn.ReLU()\n",
    "            , nn.Linear(hidden_size, n_outputs)\n",
    "        )\n",
    "    \n",
    "    def forward(self, x): \n",
    "        value = self.critic(x)\n",
    "        probs = self.actor(x)\n",
    "        dist = Categorical(logits=probs)\n",
    "        return dist, value.squeeze(-1)"
   ],
   "outputs": [],
   "execution_count": 3
  },
  {
   "cell_type": "code",
   "metadata": {
    "ExecuteTime": {
     "end_time": "2025-09-13T01:10:23.317631Z",
     "start_time": "2025-09-13T01:10:23.315363Z"
    }
   },
   "source": [
    "class ObsNorm:\n",
    "    def __init__(self, eps=1e-8):\n",
    "        self.count = 0\n",
    "        self.mean = None\n",
    "        self.var  = None\n",
    "        self.eps  = eps\n",
    "\n",
    "    def update(self, x):\n",
    "        # Asegurarse de que es torch.Tensor\n",
    "        if not isinstance(x, torch.Tensor):\n",
    "            x = torch.tensor(x, dtype=torch.float32)\n",
    "        x = x.flatten()\n",
    "\n",
    "        if self.mean is None:\n",
    "            self.mean = x.clone()\n",
    "            self.var  = torch.ones_like(x)\n",
    "            self.count = 1\n",
    "            return\n",
    "\n",
    "        self.count += 1\n",
    "        delta = x - self.mean\n",
    "        self.mean += delta / self.count\n",
    "        self.var  += delta * (x - self.mean)\n",
    "\n",
    "    def normalize(self, x):\n",
    "        if not isinstance(x, torch.Tensor):\n",
    "            x = torch.tensor(x, dtype=torch.float32)\n",
    "        x = x.flatten()\n",
    "        std = torch.sqrt(self.var / max(self.count-1, 1) + self.eps)\n",
    "        return (x - self.mean) / std    # <- devuelve tensor\n",
    "\n",
    "\n",
    "obs_norm = ObsNorm()"
   ],
   "outputs": [],
   "execution_count": 4
  },
  {
   "cell_type": "code",
   "metadata": {
    "ExecuteTime": {
     "end_time": "2025-09-13T01:10:23.565082Z",
     "start_time": "2025-09-13T01:10:23.325086Z"
    }
   },
   "source": [
    "# dist.sample(): muestrea acciones para explorar.\n",
    "# En evaluación, usar la acción más probable si se desea comportamiento determinista.\n",
    "# compute_returns: implementa el bootstrapping con V(s_{t+1}) y máscaras.\n",
    "import matplotlib.pyplot as plt \n",
    "from IPython.display import clear_output\n",
    "\n",
    "def compute_returns_gae(next_value, rewards, masks, values, gamma=0.99, lam=0.95):\n",
    "    \"\"\"\n",
    "    rewards, masks, values: tensores 1D de longitud T\n",
    "    next_value: escalar 1D (valor del estado posterior al último paso)\n",
    "    Devuelve: returns (T), advantages (T)\n",
    "    \"\"\"\n",
    "    T = len(rewards)\n",
    "    returns = torch.zeros(T, dtype=torch.float32)\n",
    "    adv = torch.zeros(T, dtype=torch.float32)\n",
    "\n",
    "    gae = 0.0\n",
    "    for t in reversed(range(T)):\n",
    "        v_next = next_value if t == T-1 else values[t+1]\n",
    "        delta = rewards[t] + gamma * v_next * masks[t] - values[t]\n",
    "        gae = delta + gamma * lam * masks[t] * gae\n",
    "        adv[t] = gae\n",
    "        returns[t] = adv[t] + values[t]\n",
    "    return returns, adv\n",
    "\n",
    "def compute_returns(next_value, rewards, masks, gamma=0.99):\n",
    "    R = next_value\n",
    "    returns = []\n",
    "    for step in reversed(range(len(rewards))):\n",
    "        R = rewards[step] + gamma * R * masks[step]\n",
    "        returns.insert(0, R)\n",
    "    return returns\n",
    "\n",
    "def plot(frame_idx, rewards):\n",
    "    clear_output(True)\n",
    "    plt.figure(figsize=(20,5))\n",
    "    plt.subplot(131)\n",
    "    plt.title('frame %s. reward: %s' % (frame_idx, rewards[-1]))\n",
    "    plt.plot(rewards)\n",
    "    plt.show()"
   ],
   "outputs": [],
   "execution_count": 5
  },
  {
   "cell_type": "code",
   "metadata": {
    "ExecuteTime": {
     "end_time": "2025-09-13T01:10:23.574562Z",
     "start_time": "2025-09-13T01:10:23.572009Z"
    }
   },
   "source": [
    "def test_env(model, n_episodes=5, max_steps=500):\n",
    "    \"\"\"Evaluación determinística del modelo\"\"\"\n",
    "    total_rewards = []\n",
    "    obs_norm_eval = ObsNorm()\n",
    "\n",
    "    for episode in range(n_episodes):\n",
    "        state, _ = eval_env.reset()\n",
    "        obs_norm_eval.update(state)\n",
    "        state = obs_norm_eval.normalize(state)\n",
    "\n",
    "        episode_reward = 0\n",
    "        steps = 0\n",
    "        done = False\n",
    "\n",
    "        while not done and steps < max_steps:\n",
    "            state_t = torch.FloatTensor(state).unsqueeze(0)\n",
    "            with torch.no_grad():\n",
    "                dist, _ = model(state_t)\n",
    "                # Usar acción más probable para evaluación determinística\n",
    "                action = dist.probs.argmax(dim=-1)\n",
    "\n",
    "            next_state, reward, terminated, truncated, _ = eval_env.step(int(action))\n",
    "            obs_norm_eval.update(next_state)\n",
    "            next_state = obs_norm_eval.normalize(next_state)\n",
    "\n",
    "            done = terminated or truncated\n",
    "            state = next_state\n",
    "            episode_reward += reward\n",
    "            steps += 1\n",
    "\n",
    "        total_rewards.append(episode_reward)\n",
    "\n",
    "    return np.mean(total_rewards), np.std(total_rewards)"
   ],
   "outputs": [],
   "execution_count": 6
  },
  {
   "cell_type": "code",
   "metadata": {
    "ExecuteTime": {
     "end_time": "2025-09-13T01:10:23.617523Z",
     "start_time": "2025-09-13T01:10:23.585380Z"
    }
   },
   "source": [
    "# --- NUEVO: utilidades de graficado ---\n",
    "%matplotlib inline\n",
    "import matplotlib.pyplot as plt\n",
    "from IPython.display import clear_output\n",
    "\n",
    "# Exponencial Moving Average para suavizar (opcional)\n",
    "def ema(values, alpha=0.1):\n",
    "    \"\"\"Exponential Moving Average para suavizar gráficos\"\"\"\n",
    "    if len(values) == 0:\n",
    "        return []\n",
    "    smoothed = [values[0]]\n",
    "    for i in range(1, len(values)):\n",
    "        smoothed.append(alpha * values[i] + (1 - alpha) * smoothed[-1])\n",
    "    return smoothed\n",
    "\n",
    "def plot_losses(frames_hist, actor_hist, critic_hist, total_hist, use_ema=True):\n",
    "    clear_output(wait=True)\n",
    "    plt.figure(figsize=(8,4))\n",
    "    if use_ema:\n",
    "        plt.plot(frames_hist, ema(actor_hist), label='Actor loss (EMA)')\n",
    "        plt.plot(frames_hist, ema(critic_hist), label='Critic loss (EMA)')\n",
    "        plt.plot(frames_hist, ema(total_hist), label='Total loss (EMA)')\n",
    "    else:\n",
    "        plt.plot(frames_hist, actor_hist, label='Actor loss')\n",
    "        plt.plot(frames_hist, critic_hist, label='Critic loss')\n",
    "        plt.plot(frames_hist, total_hist, label='Total loss')\n",
    "    plt.xlabel('Frames')\n",
    "    plt.ylabel('Loss')\n",
    "    plt.title('Evolución de pérdidas: Actor / Critic / Total')\n",
    "    plt.legend()\n",
    "    plt.grid(True)\n",
    "    plt.show()"
   ],
   "outputs": [],
   "execution_count": 7
  },
  {
   "cell_type": "code",
   "metadata": {
    "ExecuteTime": {
     "end_time": "2025-09-13T01:10:23.625326Z",
     "start_time": "2025-09-13T01:10:23.623738Z"
    }
   },
   "source": [
    "n_inputs = env.observation_space.shape[0]\n",
    "n_outputs = env.action_space.n \n",
    "hidden_size = 128\n"
   ],
   "outputs": [],
   "execution_count": 8
  },
  {
   "cell_type": "code",
   "metadata": {
    "ExecuteTime": {
     "end_time": "2025-09-13T01:10:23.635414Z",
     "start_time": "2025-09-13T01:10:23.633759Z"
    }
   },
   "source": [
    "print(f\"{n_inputs} - {n_outputs} - {hidden_size}\")"
   ],
   "outputs": [
    {
     "name": "stdout",
     "output_type": "stream",
     "text": [
      "4 - 2 - 128\n"
     ]
    }
   ],
   "execution_count": 9
  },
  {
   "cell_type": "code",
   "metadata": {
    "ExecuteTime": {
     "end_time": "2025-09-13T01:10:23.659901Z",
     "start_time": "2025-09-13T01:10:23.658331Z"
    }
   },
   "source": [
    "import torch.nn.functional as F "
   ],
   "outputs": [],
   "execution_count": 10
  },
  {
   "cell_type": "code",
   "metadata": {},
   "source": [
    "actor_critic_model = ActorCritic(n_inputs, n_outputs, hidden_size)\n",
    "optimizer = optim.Adam(actor_critic_model.parameters(), lr = 3e-4)\n",
    "\n",
    "n_steps = 50\n",
    "max_frames = 100000\n",
    "\n",
    "state, _ = env.reset()\n",
    "obs_norm.update(state)\n",
    "state = obs_norm.normalize(state)\n",
    "\n",
    "test_rewards = []\n",
    "frame_idx = 0\n",
    "\n",
    "frames_hist  = []\n",
    "actor_hist   = []\n",
    "critic_hist  = []\n",
    "total_hist   = []\n",
    "\n",
    "while frame_idx < max_frames:\n",
    "\n",
    "    log_probs = []\n",
    "    values    = []\n",
    "    rewards   = []\n",
    "    masks     = []\n",
    "    entropy = 0.0\n",
    "\n",
    "    for _ in range(n_steps):\n",
    "\n",
    "        state_t = torch.as_tensor(state, dtype=torch.float32)\n",
    "        dist, value = actor_critic_model(state_t)\n",
    "\n",
    "        action = dist.sample()\n",
    "        action_np = int(action.item())\n",
    "\n",
    "        next_state, reward, terminated, truncated, _ = env.step(action_np)\n",
    "        \n",
    "        next_state = obs_norm.normalize(next_state)\n",
    "        done = np.logical_or(terminated, truncated)\n",
    "\n",
    "        if done: \n",
    "            state, _  = env.reset() \n",
    "            state_t = torch.as_tensor(state, dtype=torch.float32)\n",
    "\n",
    "        log_prob = dist.log_prob(action)\n",
    "        if log_prob.ndim > 1:\n",
    "            log_prob = log_prob.sum(-1)\n",
    "        entropy = entropy + dist.entropy().mean() \n",
    "\n",
    "        log_probs.append(log_prob)\n",
    "        values.append(value.squeeze(-1))\n",
    "        rewards.append(torch.as_tensor(reward, dtype=torch.float32))\n",
    "        masks.append(torch.as_tensor(1.0 - done.astype(np.float32), dtype=torch.float32))  # (n_envs,)\n",
    "        \n",
    "\n",
    "        state = next_state\n",
    "        if done: \n",
    "            state, _  = env.reset()\n",
    "\n",
    "        obs_norm.update(state)\n",
    "        state = obs_norm.normalize(state) \n",
    "\n",
    "        frame_idx += 1\n",
    "\n",
    "        if frame_idx % 1000 == 0:\n",
    "            test_rewards.append(np.mean([test_env(model = actor_critic_model) for _ in range(5)]))\n",
    "            plot(frame_idx, test_rewards)  # tu función existente\n",
    "\n",
    "    next_state_t = torch.as_tensor(next_state, dtype=torch.float32)\n",
    "    obs_norm.update(next_state_t)\n",
    "    next_state_t = obs_norm.normalize(next_state_t)\n",
    "\n",
    "    with torch.no_grad():\n",
    "        _, next_value = actor_critic_model(next_state_t)\n",
    "\n",
    "    next_value = next_value.squeeze(-1).unsqueeze(-1)\n",
    "\n",
    "    returns, advantages = compute_returns_gae(next_value, rewards, masks, values, gamma=0.99, lam=0.95)\n",
    "\n",
    "\n",
    "    log_probs = torch.stack(log_probs)   # [T]\n",
    "    values    = torch.stack(values)      # [T]\n",
    "    adv_norm = (advantages - advantages.mean()) / (advantages.std() + 1e-8)\n",
    "\n",
    "    actor_loss  = -(log_probs * adv_norm.detach()).mean()\n",
    "    critic_loss = (returns - values).pow(2).mean()            # <- sin normalizar\n",
    "    # critic_loss = F.smooth_l1_loss(values, returns)\n",
    "    loss = actor_loss + 0.5 * critic_loss - 0.05 * (entropy / len(log_probs))\n",
    "    \n",
    "\n",
    "    optimizer.zero_grad()\n",
    "    loss.backward()\n",
    "    torch.nn.utils.clip_grad_norm_(actor_critic_model.parameters(), 0.5)\n",
    "    optimizer.step()\n",
    "\n",
    "    # --- NUEVO: registrar y graficar ---\n",
    "    frames_hist.append(frame_idx)\n",
    "    actor_hist.append(actor_loss.item())\n",
    "    critic_hist.append(critic_loss.item())\n",
    "    total_hist.append(loss.item())\n",
    "\n",
    "\n"
   ],
   "execution_count": 11,
   "outputs": []
  },
  {
   "cell_type": "code",
   "metadata": {},
   "source": [
    "plot_losses(frames_hist, actor_hist, critic_hist, total_hist, use_ema=True)"
   ],
   "execution_count": 12,
   "outputs": []
  },
  {
   "cell_type": "code",
   "metadata": {
    "ExecuteTime": {
     "end_time": "2025-09-13T01:11:09.100130Z",
     "start_time": "2025-09-13T01:11:09.098568Z"
    }
   },
   "source": [],
   "outputs": [],
   "execution_count": null
  }
 ],
 "metadata": {
  "kernelspec": {
   "display_name": "venv",
   "language": "python",
   "name": "python3"
  },
  "language_info": {
   "codemirror_mode": {
    "name": "ipython",
    "version": 3
   },
   "file_extension": ".py",
   "mimetype": "text/x-python",
   "name": "python",
   "nbconvert_exporter": "python",
   "pygments_lexer": "ipython3",
   "version": "3.11.12"
  }
 },
 "nbformat": 4,
 "nbformat_minor": 2
}
